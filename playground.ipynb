{
 "cells": [
  {
   "cell_type": "code",
   "execution_count": 64,
   "metadata": {},
   "outputs": [],
   "source": [
    "import pandas as pd"
   ]
  },
  {
   "cell_type": "code",
   "execution_count": 65,
   "metadata": {},
   "outputs": [],
   "source": [
    "has_parent = pd.read_csv('2022bkk-buget-has_parent.csv')\n",
    "item = pd.read_csv('2022bkk-buget-item.csv')"
   ]
  },
  {
   "cell_type": "code",
   "execution_count": 66,
   "metadata": {},
   "outputs": [
    {
     "data": {
      "text/html": [
       "<div>\n",
       "<style scoped>\n",
       "    .dataframe tbody tr th:only-of-type {\n",
       "        vertical-align: middle;\n",
       "    }\n",
       "\n",
       "    .dataframe tbody tr th {\n",
       "        vertical-align: top;\n",
       "    }\n",
       "\n",
       "    .dataframe thead th {\n",
       "        text-align: right;\n",
       "    }\n",
       "</style>\n",
       "<table border=\"1\" class=\"dataframe\">\n",
       "  <thead>\n",
       "    <tr style=\"text-align: right;\">\n",
       "      <th></th>\n",
       "      <th>id</th>\n",
       "      <th>text</th>\n",
       "      <th>amount</th>\n",
       "      <th>filename</th>\n",
       "      <th>page</th>\n",
       "      <th>line_num</th>\n",
       "    </tr>\n",
       "  </thead>\n",
       "  <tbody>\n",
       "    <tr>\n",
       "      <th>411</th>\n",
       "      <td>591</td>\n",
       "      <td>01202-1 เงินเพิ่มค่าจ้างประจํา ฯ71220 บาท</td>\n",
       "      <td>ฯ71220</td>\n",
       "      <td>65027.pdf</td>\n",
       "      <td>22</td>\n",
       "      <td>13</td>\n",
       "    </tr>\n",
       "    <tr>\n",
       "      <th>7863</th>\n",
       "      <td>11379</td>\n",
       "      <td>01101-1 อัตราเดิม 11 อัตรา ๆ437420 บาท</td>\n",
       "      <td>ๆ437420</td>\n",
       "      <td>65046.pdf</td>\n",
       "      <td>29</td>\n",
       "      <td>4</td>\n",
       "    </tr>\n",
       "    <tr>\n",
       "      <th>9796</th>\n",
       "      <td>14184</td>\n",
       "      <td>งานงบประมาณโรงเรียน - รหัส 1300022</td>\n",
       "      <td>รหัส</td>\n",
       "      <td>65051.pdf</td>\n",
       "      <td>28</td>\n",
       "      <td>1</td>\n",
       "    </tr>\n",
       "  </tbody>\n",
       "</table>\n",
       "</div>"
      ],
      "text/plain": [
       "         id                                       text   amount   filename  \\\n",
       "411     591  01202-1 เงินเพิ่มค่าจ้างประจํา ฯ71220 บาท   ฯ71220  65027.pdf   \n",
       "7863  11379     01101-1 อัตราเดิม 11 อัตรา ๆ437420 บาท  ๆ437420  65046.pdf   \n",
       "9796  14184         งานงบประมาณโรงเรียน - รหัส 1300022     รหัส  65051.pdf   \n",
       "\n",
       "      page  line_num  \n",
       "411     22        13  \n",
       "7863    29         4  \n",
       "9796    28         1  "
      ]
     },
     "execution_count": 66,
     "metadata": {},
     "output_type": "execute_result"
    }
   ],
   "source": [
    "item[item.amount.apply(lambda x: not x.isdigit())]"
   ]
  },
  {
   "cell_type": "code",
   "execution_count": null,
   "metadata": {},
   "outputs": [],
   "source": []
  }
 ],
 "metadata": {
  "language_info": {
   "name": "python"
  },
  "orig_nbformat": 4
 },
 "nbformat": 4,
 "nbformat_minor": 2
}
