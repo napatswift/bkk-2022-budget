{
 "cells": [
  {
   "cell_type": "code",
   "execution_count": 126,
   "metadata": {},
   "outputs": [],
   "source": [
    "import pandas as pd\n",
    "import numpy as np"
   ]
  },
  {
   "cell_type": "code",
   "execution_count": 127,
   "metadata": {},
   "outputs": [],
   "source": [
    "has_parent = pd.read_csv('2022bkk-buget-has_parent.csv')\n",
    "item = pd.read_csv('2022bkk-buget-item.csv', index_col='id')"
   ]
  },
  {
   "cell_type": "code",
   "execution_count": 128,
   "metadata": {},
   "outputs": [],
   "source": [
    "df = item.join(has_parent.set_index('id'), on='id')"
   ]
  },
  {
   "cell_type": "code",
   "execution_count": 129,
   "metadata": {},
   "outputs": [],
   "source": [
    "df.amount = df.amount.astype(np.float128)"
   ]
  },
  {
   "cell_type": "code",
   "execution_count": 130,
   "metadata": {},
   "outputs": [],
   "source": [
    "\n",
    "psum = df.groupby('parent').amount.sum()\n",
    "psumd = df.loc[df.parent.drop(df[df.parent == 0].index).unique()].amount.agg(lambda x: x - psum.loc[x.index])\n",
    "psumb = df.loc[df.parent.drop(df[df.parent == 0].index).unique()].amount.agg(lambda x: x == psum.loc[x.index])"
   ]
  },
  {
   "cell_type": "code",
   "execution_count": 131,
   "metadata": {},
   "outputs": [],
   "source": [
    "df_ = df.assign(\n",
    "  is_equal=df.apply(lambda x: psumb.loc[x.parent if x.parent != 0 else x.name], axis=1),\n",
    "  diff=df.apply(lambda x: psumd.loc[x.parent if x.parent != 0 else x.name], axis=1))"
   ]
  },
  {
   "cell_type": "code",
   "execution_count": 132,
   "metadata": {},
   "outputs": [],
   "source": [
    "df_.to_csv('2022bkk-buget-item_with_parent.csv')"
   ]
  },
  {
   "cell_type": "code",
   "execution_count": 133,
   "metadata": {},
   "outputs": [],
   "source": [
    "tf = df_[df_.is_equal == False]\n",
    "bkkclean = pd.read_csv('bkk-bud_cleaned.csv', index_col='index')\n"
   ]
  },
  {
   "cell_type": "code",
   "execution_count": 134,
   "metadata": {},
   "outputs": [
    {
     "data": {
      "text/plain": [
       "0.010752307855551233"
      ]
     },
     "execution_count": 134,
     "metadata": {},
     "output_type": "execute_result"
    }
   ],
   "source": [
    "len(tf)/len(df)"
   ]
  },
  {
   "cell_type": "code",
   "execution_count": 135,
   "metadata": {},
   "outputs": [
    {
     "data": {
      "text/plain": [
       "(43112, 304)"
      ]
     },
     "execution_count": 135,
     "metadata": {},
     "output_type": "execute_result"
    }
   ],
   "source": [
    "bkkclean.groupby(['filename', 'page', 'line_num']).groups.__len__(),tf.groupby(['filename', 'page', 'line_num']).groups.__len__()"
   ]
  },
  {
   "cell_type": "code",
   "execution_count": 136,
   "metadata": {},
   "outputs": [],
   "source": [
    "tf[['filename', 'page', 'line_num', 'text', 'amount',  'parent', 'is_equal','diff']].to_csv('toFix.csv')"
   ]
  },
  {
   "cell_type": "code",
   "execution_count": 137,
   "metadata": {},
   "outputs": [],
   "source": [
    "\n",
    "idx = []\n",
    "bkkcleang = bkkclean.groupby(['filename', 'page', 'line_num'])\n",
    "for x, g in tf.groupby(['filename', 'page', 'line_num']):\n",
    "  idx += bkkcleang.get_group(x).index.tolist()"
   ]
  },
  {
   "cell_type": "code",
   "execution_count": 138,
   "metadata": {},
   "outputs": [],
   "source": [
    "bkkclean.loc[idx].to_csv('bkk-toFix.csv')"
   ]
  },
  {
   "cell_type": "code",
   "execution_count": 139,
   "metadata": {},
   "outputs": [],
   "source": [
    "# pd.read_csv('bkk-toFix.csv', index_col='index').to_dict('records')"
   ]
  },
  {
   "cell_type": "code",
   "execution_count": null,
   "metadata": {},
   "outputs": [],
   "source": []
  }
 ],
 "metadata": {
  "interpreter": {
   "hash": "06a1f1a44851178a47cec35640b473cf7ad372c57da1cea48f655073264bf03f"
  },
  "kernelspec": {
   "display_name": "Python 3.9.7 ('base')",
   "language": "python",
   "name": "python3"
  },
  "language_info": {
   "codemirror_mode": {
    "name": "ipython",
    "version": 3
   },
   "file_extension": ".py",
   "mimetype": "text/x-python",
   "name": "python",
   "nbconvert_exporter": "python",
   "pygments_lexer": "ipython3",
   "version": "3.9.7"
  },
  "orig_nbformat": 4
 },
 "nbformat": 4,
 "nbformat_minor": 2
}
