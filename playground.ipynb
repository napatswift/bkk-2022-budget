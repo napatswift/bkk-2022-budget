{
 "cells": [
  {
   "cell_type": "code",
   "execution_count": 1,
   "metadata": {},
   "outputs": [],
   "source": [
    "import pandas as pd\n",
    "import re\n",
    "from os import listdir\n",
    "from tqdm import tqdm\n",
    "from anytree import NodeMixin, RenderTree, PreOrderIter"
   ]
  },
  {
   "cell_type": "code",
   "execution_count": 2,
   "metadata": {},
   "outputs": [],
   "source": [
    "def toRow(df, entry):\n",
    "    row = {}\n",
    "    row['job'] = entry['job']\n",
    "    row['page'] = df.loc[entry['nodes'][-1]].page.values[0]\n",
    "    row['file'] = df.loc[entry['nodes'][-1]].filename.values[0]\n",
    "    levels = ['L1', 'L2', 'L3', 'L4', 'L5', 'L6']\n",
    "    for i, node in enumerate(entry['nodes']):\n",
    "        row[levels[i]] = ' '.join(df.loc[node].text.values)\n",
    "    row['amount'] = df.loc[entry['nodes'][-1][-2]].text\n",
    "    return row\n",
    "\n",
    "\n",
    "def get_patern_of_bullet(String):\n",
    "    regx = [\n",
    "        ('\\d{5}-\\d+$', 70),\n",
    "        ('[1-9][0-9]*(\\.[1-9][0-9]*)*\\)$', 20),\n",
    "        ('\\(\\d*(\\.?\\d*)*\\)$', 50),\n",
    "        ('[1-9][0-9]*(\\.[1-9][0-9]*)+$', 2),\n",
    "        ('[1-9][0-9]*\\.$', 1)\n",
    "    ]\n",
    "\n",
    "    for r, l in regx:\n",
    "        if re.match(r, String):\n",
    "            if l in [2, 20, 50]:\n",
    "                l = String.count('.') + l\n",
    "            return r, l\n",
    "    return '', 0"
   ]
  },
  {
   "cell_type": "code",
   "execution_count": 3,
   "metadata": {},
   "outputs": [],
   "source": [
    "df = pd.read_csv('bkk-bud_cleaned_reindex.csv', index_col='index')\n",
    "df = df.sort_values(by=['filename', 'page', 'line_num']).reset_index(drop=True)\n",
    "fpl_group = df.groupby(['filename', 'page', 'line_num'])"
   ]
  },
  {
   "cell_type": "code",
   "execution_count": 4,
   "metadata": {},
   "outputs": [
    {
     "name": "stderr",
     "output_type": "stream",
     "text": [
      "100%|██████████| 43226/43226 [00:13<00:00, 3257.55it/s]\n"
     ]
    }
   ],
   "source": [
    "bulletFlag = False\n",
    "entry = []\n",
    "entries = []\n",
    "\n",
    "for i, group in tqdm(fpl_group):\n",
    "    lineText = group.text.values\n",
    "    if not i[2]:\n",
    "        continue\n",
    "\n",
    "    if (lineText[0].startswith('งาน') and i[2] <= 2) or (lineText[0].startswith('งาน:')):\n",
    "        entries.append(('job', group.index.to_list()))\n",
    "        continue\n",
    "\n",
    "    if ' ' in group.iloc[0].text:\n",
    "        bullet = get_patern_of_bullet(group.iloc[0].text.split(' ')[0])\n",
    "    else:\n",
    "        bullet = get_patern_of_bullet(group.iloc[0].text)\n",
    "\n",
    "    if lineText[0].startswith('งาน'):\n",
    "        if (lineText[-1] == 'บาท'):\n",
    "            lineText = lineText[:-2]\n",
    "        job = ' '.join(lineText)\n",
    "        continue\n",
    "    elif bullet[1]:\n",
    "        bulletFlag = True\n",
    "\n",
    "    if bulletFlag:\n",
    "        entry += group.index.to_list()\n",
    "        if lineText[-1] == 'บาท':\n",
    "            bulletFlag = False\n",
    "            entries.append(('list', entry))\n",
    "            entry = []\n"
   ]
  },
  {
   "cell_type": "code",
   "execution_count": 5,
   "metadata": {},
   "outputs": [],
   "source": [
    "class Budget(NodeMixin):\n",
    "    def __init__(self, id, name, idx, bullet, parent=None, children=None):\n",
    "        super(Budget, self).__init__()\n",
    "        self.name = name\n",
    "        self.id = id\n",
    "        self.idx = idx\n",
    "        self.amount = ''\n",
    "        if len(idx) > 2:\n",
    "            self.amount = df.loc[idx[-2]].text\n",
    "        elif len(name.split(' ')) > 2:\n",
    "            self.amount = name.split(' ')[-2]\n",
    "\n",
    "        self.bullet = bullet\n",
    "        self.parent = parent\n",
    "        if children:\n",
    "            self.children = children\n",
    "    def __repr__(self):\n",
    "        return self.name\n"
   ]
  },
  {
   "cell_type": "code",
   "execution_count": 6,
   "metadata": {},
   "outputs": [
    {
     "name": "stderr",
     "output_type": "stream",
     "text": [
      "100%|██████████| 27749/27749 [00:16<00:00, 1661.55it/s]\n"
     ]
    }
   ],
   "source": [
    "BUDGET_RUNNING_ID = 0\n",
    "root = Budget(BUDGET_RUNNING_ID, 'BKK2022', [-1], -2)\n",
    "BUDGET_RUNNING_ID += 1\n",
    "\n",
    "job_root = None\n",
    "curr = None\n",
    "\n",
    "for l, entry in tqdm(entries):\n",
    "  entryText = ' '.join(df.loc[entry].text.values)\n",
    "\n",
    "  if l == 'job':\n",
    "    job_root = Budget(BUDGET_RUNNING_ID, entryText, entry, -1, root)\n",
    "    BUDGET_RUNNING_ID += 1\n",
    "    curr = job_root\n",
    "    continue\n",
    "\n",
    "  entry_bullet = get_patern_of_bullet(df.loc[entry[0]].text.split(' ')[0])\n",
    "  if curr == job_root:\n",
    "     curr = Budget(BUDGET_RUNNING_ID, entryText, entry, entry_bullet[1], job_root)\n",
    "     BUDGET_RUNNING_ID += 1\n",
    "  else:\n",
    "    while curr.bullet != job_root and entry_bullet[1] <= curr.bullet:\n",
    "      curr = curr.parent\n",
    "    curr = Budget(BUDGET_RUNNING_ID, entryText, entry, entry_bullet[1], curr)\n",
    "    BUDGET_RUNNING_ID+=1\n",
    "  "
   ]
  },
  {
   "cell_type": "code",
   "execution_count": 7,
   "metadata": {},
   "outputs": [],
   "source": [
    "has_parent = pd.DataFrame(\n",
    "    [\n",
    "        {'id': node.id, 'parent': node.parent.id}\n",
    "        for node in PreOrderIter(root) if node.parent\n",
    "    ])\n",
    "item = pd.DataFrame(\n",
    "    [\n",
    "        {'id': node.id, 'text': node.name, 'amount': node.amount}\n",
    "        for node in PreOrderIter(root)\n",
    "        if node.is_leaf\n",
    "    ]\n",
    ")\n",
    "\n",
    "has_parent.to_csv('2022bkk-buget-has_parent.csv', index=0)\n",
    "item.to_csv('2022bkk-buget-item.csv', index=0)"
   ]
  },
  {
   "cell_type": "code",
   "execution_count": 15,
   "metadata": {},
   "outputs": [
    {
     "data": {
      "text/plain": [
       "parent\n",
       "0        [1, 35, 63, 85, 109, 132, 162, 187, 212, 238, ...\n",
       "1                                              [2, 23, 29]\n",
       "2                                          [3, 10, 15, 19]\n",
       "3                                       [4, 5, 6, 7, 8, 9]\n",
       "10                                        [11, 12, 13, 14]\n",
       "                               ...                        \n",
       "27730                                       [27731, 27735]\n",
       "27731                                [27732, 27733, 27734]\n",
       "27735                                       [27736, 27737]\n",
       "27738                                       [27739, 27740]\n",
       "27741    [27742, 27743, 27744, 27745, 27746, 27747, 277...\n",
       "Length: 8694, dtype: object"
      ]
     },
     "execution_count": 15,
     "metadata": {},
     "output_type": "execute_result"
    }
   ],
   "source": [
    "has_parent.groupby('parent').apply(lambda x: x.id.values)"
   ]
  },
  {
   "cell_type": "code",
   "execution_count": 24,
   "metadata": {},
   "outputs": [
    {
     "data": {
      "text/html": [
       "<div>\n",
       "<style scoped>\n",
       "    .dataframe tbody tr th:only-of-type {\n",
       "        vertical-align: middle;\n",
       "    }\n",
       "\n",
       "    .dataframe tbody tr th {\n",
       "        vertical-align: top;\n",
       "    }\n",
       "\n",
       "    .dataframe thead th {\n",
       "        text-align: right;\n",
       "    }\n",
       "</style>\n",
       "<table border=\"1\" class=\"dataframe\">\n",
       "  <thead>\n",
       "    <tr style=\"text-align: right;\">\n",
       "      <th></th>\n",
       "      <th>id</th>\n",
       "      <th>text</th>\n",
       "      <th>amount</th>\n",
       "    </tr>\n",
       "  </thead>\n",
       "  <tbody>\n",
       "    <tr>\n",
       "      <th>411</th>\n",
       "      <td>591</td>\n",
       "      <td>01202-1 เงินเพิ่มค่าจ้างประจํา ฯ71220 บาท</td>\n",
       "      <td>ฯ71220</td>\n",
       "    </tr>\n",
       "    <tr>\n",
       "      <th>552</th>\n",
       "      <td>796</td>\n",
       "      <td>2.3 ค่าวัสดุ 2 703100 บาท</td>\n",
       "      <td>2 703100</td>\n",
       "    </tr>\n",
       "    <tr>\n",
       "      <th>812</th>\n",
       "      <td>1166</td>\n",
       "      <td>2.1.1 ค่าตอบแทน 232 440 บาท</td>\n",
       "      <td>232 440</td>\n",
       "    </tr>\n",
       "    <tr>\n",
       "      <th>1102</th>\n",
       "      <td>1584</td>\n",
       "      <td>01101-1 อัตราเดิม 4 อัตรา 922 105 บาท</td>\n",
       "      <td>922 105</td>\n",
       "    </tr>\n",
       "    <tr>\n",
       "      <th>1118</th>\n",
       "      <td>1607</td>\n",
       "      <td>01101-1 อัตราเดิม 4 อัตรา 922 105 บาท</td>\n",
       "      <td>922 105</td>\n",
       "    </tr>\n",
       "    <tr>\n",
       "      <th>...</th>\n",
       "      <td>...</td>\n",
       "      <td>...</td>\n",
       "      <td>...</td>\n",
       "    </tr>\n",
       "    <tr>\n",
       "      <th>17249</th>\n",
       "      <td>25124</td>\n",
       "      <td>02101-1 ค่าจ้างชั่วคราว 74 ลอัตรา 7 598700 บาท</td>\n",
       "      <td>7 598700</td>\n",
       "    </tr>\n",
       "    <tr>\n",
       "      <th>17275</th>\n",
       "      <td>25163</td>\n",
       "      <td>01102-2 เงินเลื่อนขั้น 99 760 บาท</td>\n",
       "      <td>99 760</td>\n",
       "    </tr>\n",
       "    <tr>\n",
       "      <th>17552</th>\n",
       "      <td>25569</td>\n",
       "      <td>02101-1 ค่าจ้างชั่วคราว 1 อัตรา 112 800 บาท</td>\n",
       "      <td>112 800</td>\n",
       "    </tr>\n",
       "    <tr>\n",
       "      <th>17889</th>\n",
       "      <td>26053</td>\n",
       "      <td>03217-1 เงินสมทบกองทุนประกันสังคม 5 760 บาท</td>\n",
       "      <td>5 760</td>\n",
       "    </tr>\n",
       "    <tr>\n",
       "      <th>18580</th>\n",
       "      <td>27058</td>\n",
       "      <td>02102-1 เงินเพิ่มการครองชีพชั่วคราวของลูกจ้างช...</td>\n",
       "      <td>7 120</td>\n",
       "    </tr>\n",
       "  </tbody>\n",
       "</table>\n",
       "<p>141 rows × 3 columns</p>\n",
       "</div>"
      ],
      "text/plain": [
       "          id                                               text    amount\n",
       "411      591          01202-1 เงินเพิ่มค่าจ้างประจํา ฯ71220 บาท    ฯ71220\n",
       "552      796                          2.3 ค่าวัสดุ 2 703100 บาท  2 703100\n",
       "812     1166                        2.1.1 ค่าตอบแทน 232 440 บาท   232 440\n",
       "1102    1584              01101-1 อัตราเดิม 4 อัตรา 922 105 บาท   922 105\n",
       "1118    1607              01101-1 อัตราเดิม 4 อัตรา 922 105 บาท   922 105\n",
       "...      ...                                                ...       ...\n",
       "17249  25124     02101-1 ค่าจ้างชั่วคราว 74 ลอัตรา 7 598700 บาท  7 598700\n",
       "17275  25163                  01102-2 เงินเลื่อนขั้น 99 760 บาท    99 760\n",
       "17552  25569        02101-1 ค่าจ้างชั่วคราว 1 อัตรา 112 800 บาท   112 800\n",
       "17889  26053        03217-1 เงินสมทบกองทุนประกันสังคม 5 760 บาท     5 760\n",
       "18580  27058  02102-1 เงินเพิ่มการครองชีพชั่วคราวของลูกจ้างช...     7 120\n",
       "\n",
       "[141 rows x 3 columns]"
      ]
     },
     "execution_count": 24,
     "metadata": {},
     "output_type": "execute_result"
    }
   ],
   "source": [
    "item[item.amount.apply(lambda x: not x.isdigit())]"
   ]
  }
 ],
 "metadata": {
  "interpreter": {
   "hash": "06a1f1a44851178a47cec35640b473cf7ad372c57da1cea48f655073264bf03f"
  },
  "kernelspec": {
   "display_name": "Python 3.9.7 ('base')",
   "language": "python",
   "name": "python3"
  },
  "language_info": {
   "codemirror_mode": {
    "name": "ipython",
    "version": 3
   },
   "file_extension": ".py",
   "mimetype": "text/x-python",
   "name": "python",
   "nbconvert_exporter": "python",
   "pygments_lexer": "ipython3",
   "version": "3.9.7"
  },
  "orig_nbformat": 4
 },
 "nbformat": 4,
 "nbformat_minor": 2
}
