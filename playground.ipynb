{
 "cells": [
  {
   "cell_type": "code",
   "execution_count": 142,
   "metadata": {},
   "outputs": [],
   "source": [
    "import pandas as pd\n",
    "import re\n",
    "from os import listdir"
   ]
  },
  {
   "cell_type": "code",
   "execution_count": 149,
   "metadata": {},
   "outputs": [],
   "source": [
    "def fix(group):\n",
    "  if len(group) < 1:\n",
    "    return group\n",
    "\n",
    "  if group.values[-1] in ['ขาท', 'ขบาท']:\n",
    "    group.values[-1] = 'บาท'\n",
    "  if group.values[-1] == 'บาท':\n",
    "    group.values[-2] = group.values[-2].replace(',', '').replace('.', '')\n",
    "\n",
    "  if type(group.values[0]) is not str: print(group.values)\n",
    "  \n",
    "  if re.match('^0\\d{4}', group.values[0]):\n",
    "    temp = ''\n",
    "    for t in group.values[0]:\n",
    "      if t == '-': return group\n",
    "      if t != ' ': temp += t\n",
    "      if len(temp) == 5: temp += '-'\n",
    "    group.values[0] = temp\n",
    "\n",
    "  return group\n"
   ]
  },
  {
   "cell_type": "code",
   "execution_count": 151,
   "metadata": {},
   "outputs": [
    {
     "name": "stdout",
     "output_type": "stream",
     "text": [
      "./bud-csv/65026_clean.tsv\n",
      "./bud-csv/65026_raw.tsv\n",
      "./bud-csv/65026_raw_items.csv\n",
      "./bud-csv/65027_clean.tsv\n",
      "./bud-csv/65027_raw.tsv\n",
      "./bud-csv/65028_clean.tsv\n",
      "./bud-csv/65028_cleaned.tsv\n",
      "./bud-csv/65028_raw.tsv\n",
      "./bud-csv/65029_clean.tsv\n",
      "./bud-csv/65029_raw.tsv\n",
      "./bud-csv/65030_clean.tsv\n",
      "./bud-csv/65030_raw.tsv\n",
      "./bud-csv/65031_clean.tsv\n",
      "./bud-csv/65031_raw.tsv\n",
      "./bud-csv/65032_clean.tsv\n",
      "./bud-csv/65032_raw.tsv\n",
      "./bud-csv/65033_clean.tsv\n",
      "./bud-csv/65033_raw.tsv\n",
      "./bud-csv/65034_clean.tsv\n",
      "./bud-csv/65034_raw.tsv\n",
      "./bud-csv/65035_clean.tsv\n",
      "./bud-csv/65035_raw.tsv\n",
      "./bud-csv/65036_clean.tsv\n",
      "./bud-csv/65036_raw.tsv\n",
      "./bud-csv/65037_clean.tsv\n",
      "./bud-csv/65037_raw.tsv\n",
      "./bud-csv/65038_clean.tsv\n",
      "./bud-csv/65038_raw.tsv\n",
      "./bud-csv/65039_clean.tsv\n",
      "./bud-csv/65039_raw.tsv\n",
      "./bud-csv/65040_raw.tsv\n",
      "./bud-csv/65041_clean.tsv\n",
      "./bud-csv/65041_raw.tsv\n",
      "./bud-csv/65042_raw.tsv\n",
      "./bud-csv/65043_raw.tsv\n",
      "./bud-csv/65044_raw.tsv\n",
      "./bud-csv/65045_raw.tsv\n",
      "./bud-csv/65046_raw.tsv\n",
      "./bud-csv/65047_raw.tsv\n",
      "./bud-csv/65048_raw.tsv\n",
      "./bud-csv/65049_raw.tsv\n",
      "./bud-csv/65050_raw.tsv\n",
      "./bud-csv/65051_raw.tsv\n",
      "./bud-csv/65052_raw.tsv\n",
      "./bud-csv/65053_raw.tsv\n",
      "./bud-csv/65054_raw.tsv\n",
      "./bud-csv/65055_raw.tsv\n",
      "./bud-csv/65056_raw.tsv\n",
      "./bud-csv/65057_raw.tsv\n",
      "./bud-csv/65058_raw.tsv\n",
      "./bud-csv/65059_raw.tsv\n",
      "./bud-csv/65060_raw.tsv\n",
      "./bud-csv/65061_raw.tsv\n",
      "./bud-csv/65061_raw_items.csv\n",
      "./bud-csv/65062_raw.tsv\n",
      "./bud-csv/65062_raw_items.csv\n",
      "./bud-csv/65063_raw.tsv\n",
      "./bud-csv/65064_raw.tsv\n",
      "./bud-csv/65065_raw.tsv\n",
      "./bud-csv/65066_raw.tsv\n",
      "./bud-csv/65067_raw.tsv\n",
      "./bud-csv/65068_raw.tsv\n",
      "./bud-csv/65069_raw.tsv\n",
      "./bud-csv/65070_raw.tsv\n",
      "./bud-csv/65071_raw.tsv\n",
      "./bud-csv/65072_raw.tsv\n",
      "./bud-csv/65073_raw.tsv\n",
      "./bud-csv/65074_raw.tsv\n",
      "./bud-csv/65075_items.csv\n",
      "./bud-csv/65075_raw.csv\n"
     ]
    }
   ],
   "source": [
    "rootDir = './bud-csv/'\n",
    "for file in sorted(listdir(rootDir)):\n",
    "    print(rootDir+file)\n",
    "    if not file.endswith('_raw.tsv'): continue\n",
    "\n",
    "    df = pd.read_csv(rootDir+file, sep='\\t')\\\n",
    "        .sort_values(by=['filename', 'line_num'])\\\n",
    "        .reset_index(drop=True)\\\n",
    "        .dropna()\n",
    "\n",
    "    df['text'] = df.groupby(['filename', 'line_num']).text.apply(fix)\n",
    "\n",
    "    df.to_csv(rootDir + file[:file.rfind('_raw')] + '_clean.tsv', sep='\\t', index=0)\n"
   ]
  }
 ],
 "metadata": {
  "interpreter": {
   "hash": "06a1f1a44851178a47cec35640b473cf7ad372c57da1cea48f655073264bf03f"
  },
  "kernelspec": {
   "display_name": "Python 3.9.7 ('base')",
   "language": "python",
   "name": "python3"
  },
  "language_info": {
   "codemirror_mode": {
    "name": "ipython",
    "version": 3
   },
   "file_extension": ".py",
   "mimetype": "text/x-python",
   "name": "python",
   "nbconvert_exporter": "python",
   "pygments_lexer": "ipython3",
   "version": "3.9.7"
  },
  "orig_nbformat": 4
 },
 "nbformat": 4,
 "nbformat_minor": 2
}
