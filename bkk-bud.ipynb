{
 "cells": [
  {
   "cell_type": "code",
   "execution_count": 2,
   "metadata": {},
   "outputs": [],
   "source": [
    "import cv2 as cv\n",
    "import pytesseract"
   ]
  },
  {
   "cell_type": "code",
   "execution_count": 3,
   "metadata": {},
   "outputs": [],
   "source": [
    "pytesseract.pytesseract.tesseract_cmd = '/usr/local/Cellar/tesseract/5.1.0/bin/tesseract'"
   ]
  },
  {
   "cell_type": "code",
   "execution_count": 124,
   "metadata": {},
   "outputs": [],
   "source": [
    "def matToText(filename, write=False):\n",
    "  mat = cv.imread(filename)\n",
    "\n",
    "  gray = cv.cvtColor(mat, cv.COLOR_BGR2GRAY)\n",
    "  blured = cv.GaussianBlur(gray, (15, 15), 0, 5)\n",
    "  th, threshed = cv.threshold(blured, 70, 255, cv.THRESH_BINARY_INV|cv.THRESH_OTSU)\n",
    "  kernel = cv.getStructuringElement(cv.MORPH_RECT, (3, 5))\n",
    "  threshed = cv.dilate(threshed, kernel)\n",
    "  hist = cv.reduce(threshed, 1, cv.REDUCE_AVG).reshape(-1)\n",
    "\n",
    "  kernel = cv.getStructuringElement(cv.MORPH_RECT, (7, 10))\n",
    "  dilated = cv.dilate(threshed, kernel)\n",
    "  contours, hier  = cv.findContours(dilated, cv.RETR_EXTERNAL, cv.CHAIN_APPROX_NONE)\n",
    "  rects = [cv.boundingRect(c) for c in contours]\n",
    "  rects.sort(key=lambda rect: rect[1])\n",
    "\n",
    "  h,w = mat.shape[:2]\n",
    "  stack_y = []\n",
    "  for ii in range(h-1):\n",
    "    if (hist[ii] and not hist[ii+1]):\n",
    "      stack_y.append(ii)\n",
    "    elif (not hist[ii] and hist[ii+1]):\n",
    "      stack_y.append(ii)\n",
    "\n",
    "  ocr_text = []\n",
    "  while(stack_y):\n",
    "    y1 = stack_y.pop()\n",
    "    y2 = stack_y.pop()\n",
    "    line = []\n",
    "    while rects:\n",
    "      rect = rects[-1]\n",
    "      midPoint = rect[1] + rect[3]//2\n",
    "      if (y2 <=  midPoint <= y1):\n",
    "        # cv.rectangle(mat, (rect[0],rect[1]), (rect[0]+rect[2],rect[1]+rect[3]), (0, 0, 255), 4);\n",
    "        line.append(rects.pop())\n",
    "      else:\n",
    "        break\n",
    "    line.sort(key=lambda rect: rect[0]+rect[2]/2)\n",
    "    ocr_text.append([\n",
    "      pytesseract.image_to_string(mat[y:y+h, x:x+w], lang='tha+eng')\n",
    "      for x,y,w,h in line])\n",
    "\n",
    "  if (write):\n",
    "    filename = filename[filename.rfind('/')+1:filename.rfind('.')]\n",
    "    cv.imwrite(f\"drawed-{filename}.jpg\", mat)\n",
    "    cv.imwrite(f\"thresed-{filename}.jpg\", threshed)\n",
    "\n",
    "  return ocr_text"
   ]
  },
  {
   "cell_type": "code",
   "execution_count": 126,
   "metadata": {},
   "outputs": [
    {
     "name": "stdout",
     "output_type": "stream",
     "text": [
      "448\n",
      "งาน: ปกครอง 8,788,380 บาท\n",
      "1. งบบุคลากร 6,042,000 บาท\n",
      "1.1 เงินเดือน 5,186,880 บาท\n",
      "01101-1 อัตราเดิม  อัตรา 4,581,480 บาท\n",
      "01102-1 เงินเลือนขั้น 274,920 บาท\n",
      "01106-1 เงินประจําตําแหน่ง 152,640 บาท\n",
      "01107-1 เงินค่าตอบแทนรายเดือนของข้าราชการ 177,840 บาท\n",
      "1.2 ค่าจ้างประจํา 760,800 บาท\n",
      "01201-1 อัตราเดิม 4 อัตรา 708,060 บาท\n",
      "01202-1 เงินเพิมค่าจ้างประจํา 42,540 บาท\n",
      "01205-1 เงินเพิ่มการครองชีพชั่วคราวของลูกจ้างประจํา 8,640 บาท\n",
      "01206-1 เงินช่วยเหลือค่าครองชีพของลูกจ้างประจํา 1,560 บาท\n",
      "1.3 ค่าจ้างชั่วคราว 86,400 บาท\n",
      "02101-1 ค่าจ้างชั่วคราว  อัตรา 67,680 บาท\n",
      "02102-1 เงินเพิ่มการครองชีพชั่วคราวของลูกจ้างชั่วคราว 4,320 บาท\n",
      "02103-1 เงินช่วยเหลือค่าครองชีพของลูกจ้างชั่วคราว 14,400 บาท\n",
      "1.4 ค่าตอบแทน ใช้สอยและวัสดุ 7,920 บาท\n",
      "03217-1 เงินสมทบกองทุนประกันสังคม 4,320 บาท\n",
      "03611-1 ค่าเครื่องแต่งกาย 3,600 บาท\n",
      "2. งบดําเนินงาน 2,330,280 บาท\n",
      "2.1 ค่าตอบแทน ใช้สอยและวัสดุ 801,480 บาท\n",
      " ค่าตอบแทน 232,440 บาท\n",
      "ค่าอาหารทําการนอกเวลา\n",
      "2.1.2 ค่าใช้สอย 184,980 บาท\n",
      "ค่าซ่อมแซมครุภัณฑ์\n",
      "ค่าซ่อมแซมยานพาหนะ\n",
      "ค่าบํารุงรักษาซ่อมแซมเครื่องปรับอากาศ\n",
      "2.1.3 ค่าวัสดุ 384,060 บาท\n",
      "ส่วนใหญ่เป็นค่าวัสดุนํามันเชื่อเพลิงและนํามันหล่อลื่น\n",
      "ค่าวัสดุสํานักงาน ค่าวัสดุไฟฟ้า ประปา งานบ้าน\n",
      "งานครัว และงานสวน ฯลฯ\n"
     ]
    }
   ],
   "source": [
    "text = matToText(\"./bud-images/65075-029.jpg\")\n",
    "\n",
    "print('\\n'.join([\n",
    "  ' '.join([b.replace('\\n', '') for b in x]) for x in text[::-1]\n",
    "  ]))"
   ]
  },
  {
   "cell_type": "code",
   "execution_count": null,
   "metadata": {},
   "outputs": [],
   "source": []
  }
 ],
 "metadata": {
  "interpreter": {
   "hash": "06a1f1a44851178a47cec35640b473cf7ad372c57da1cea48f655073264bf03f"
  },
  "kernelspec": {
   "display_name": "Python 3.9.7 ('base')",
   "language": "python",
   "name": "python3"
  },
  "language_info": {
   "codemirror_mode": {
    "name": "ipython",
    "version": 3
   },
   "file_extension": ".py",
   "mimetype": "text/x-python",
   "name": "python",
   "nbconvert_exporter": "python",
   "pygments_lexer": "ipython3",
   "version": "3.9.7"
  },
  "orig_nbformat": 4
 },
 "nbformat": 4,
 "nbformat_minor": 2
}
