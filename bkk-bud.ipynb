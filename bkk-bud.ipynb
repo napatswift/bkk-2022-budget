{
 "cells": [
  {
   "cell_type": "code",
   "execution_count": 1,
   "metadata": {},
   "outputs": [],
   "source": [
    "import cv2 as cv\n",
    "import pytesseract"
   ]
  },
  {
   "cell_type": "code",
   "execution_count": 2,
   "metadata": {},
   "outputs": [],
   "source": [
    "pytesseract.pytesseract.tesseract_cmd = '/usr/local/Cellar/tesseract/5.1.0/bin/tesseract'"
   ]
  },
  {
   "cell_type": "code",
   "execution_count": 137,
   "metadata": {},
   "outputs": [],
   "source": [
    "def matToText(filename, write=False):\n",
    "  mat = cv.imread(filename)\n",
    "\n",
    "  gray = cv.cvtColor(mat, cv.COLOR_BGR2GRAY)\n",
    "  blured = cv.GaussianBlur(gray, (15, 3), 0, 0)\n",
    "  th, threshed = cv.threshold(blured, 10, 255, cv.THRESH_BINARY_INV|cv.THRESH_OTSU)\n",
    "  kernel = cv.getStructuringElement(cv.MORPH_RECT, (10, 3))\n",
    "  threshed = cv.dilate(threshed, kernel)\n",
    "  hist = cv.reduce(threshed,1, cv.REDUCE_AVG).reshape(-1)\n",
    "\n",
    "  h,w = mat.shape[:2]\n",
    "  stack_y = []\n",
    "  for ii in range(h-1):\n",
    "    if (hist[ii] and not hist[ii+1]):\n",
    "      stack_y.append(ii)\n",
    "    elif (not hist[ii] and hist[ii+1]):\n",
    "      stack_y.append(ii)\n",
    "\n",
    "  ocr_text = []\n",
    "  while(stack_y):\n",
    "    y1 = stack_y.pop()\n",
    "    y2 = stack_y.pop()\n",
    "    nonZero = cv.findNonZero(threshed[y2:y1, :])\n",
    "    xb,_,wb,_ = cv.boundingRect(nonZero)\n",
    "    croped = mat[y2:y1, xb:xb+wb]\n",
    "    cv.rectangle(mat, (xb, y1), (xb+wb, y2), (255, 155, 0))\n",
    "    ocr_text.append(pytesseract.image_to_string(croped, lang='tha'))\n",
    "  filename = filename[filename.rfind('/')+1:filename.rfind('.')]\n",
    "  if (write):\n",
    "    print(filename)\n",
    "    cv.imwrite(f\"drawed-{filename}.jpg\", mat)\n",
    "    cv.imwrite(f\"thresed-{filename}.jpg\", threshed)\n",
    "\n",
    "  return ocr_text[::-1]"
   ]
  },
  {
   "cell_type": "code",
   "execution_count": 138,
   "metadata": {},
   "outputs": [
    {
     "name": "stdout",
     "output_type": "stream",
     "text": [
      "65075-027\n",
      "65075-028\n",
      "65075-029\n"
     ]
    }
   ],
   "source": [
    "pages = []\n",
    "for i in range(27, 30):\n",
    "  filename = \"./bud-images/65075-{:03d}.jpg\".format(i)\n",
    "  pages.append(matToText(filename, True))"
   ]
  },
  {
   "cell_type": "code",
   "execution_count": null,
   "metadata": {},
   "outputs": [],
   "source": []
  }
 ],
 "metadata": {
  "interpreter": {
   "hash": "06a1f1a44851178a47cec35640b473cf7ad372c57da1cea48f655073264bf03f"
  },
  "kernelspec": {
   "display_name": "Python 3.9.7 ('base')",
   "language": "python",
   "name": "python3"
  },
  "language_info": {
   "codemirror_mode": {
    "name": "ipython",
    "version": 3
   },
   "file_extension": ".py",
   "mimetype": "text/x-python",
   "name": "python",
   "nbconvert_exporter": "python",
   "pygments_lexer": "ipython3",
   "version": "3.9.7"
  },
  "orig_nbformat": 4
 },
 "nbformat": 4,
 "nbformat_minor": 2
}
