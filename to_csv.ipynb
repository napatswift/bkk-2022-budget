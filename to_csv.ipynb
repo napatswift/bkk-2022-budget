{
 "cells": [
  {
   "cell_type": "code",
   "execution_count": 8,
   "metadata": {},
   "outputs": [],
   "source": [
    "import pandas as pd\n",
    "import re\n",
    "from os import listdir\n",
    "from tqdm import tqdm\n",
    "from anytree import NodeMixin, RenderTree, PreOrderIter"
   ]
  },
  {
   "cell_type": "code",
   "execution_count": 9,
   "metadata": {},
   "outputs": [],
   "source": [
    "def toRow(df, entry):\n",
    "    row = {}\n",
    "    row['job'] = entry['job']\n",
    "    row['page'] = df.loc[entry['nodes'][-1]].page.values[0]\n",
    "    row['file'] = df.loc[entry['nodes'][-1]].filename.values[0]\n",
    "    levels = ['L1', 'L2', 'L3', 'L4', 'L5', 'L6']\n",
    "    for i, node in enumerate(entry['nodes']):\n",
    "        row[levels[i]] = ' '.join(df.loc[node].text.values)\n",
    "    row['amount'] = df.loc[entry['nodes'][-1][-2]].text\n",
    "    return row\n",
    "\n",
    "\n",
    "def get_patern_of_bullet(String):\n",
    "    regx = [\n",
    "        ('\\d{5}-\\d+$', 70),\n",
    "        ('[1-9][0-9]*(\\.[1-9][0-9]*)*\\)$', 20),\n",
    "        ('\\(\\d*(\\.?\\d*)*\\)$', 50),\n",
    "        ('[1-9][0-9]*(\\.[1-9][0-9]*)+$', 2),\n",
    "        ('[1-9][0-9]*\\.$', 1)\n",
    "    ]\n",
    "\n",
    "    for r, l in regx:\n",
    "        if re.match(r, String):\n",
    "            if l in [2, 20, 50]:\n",
    "                l = String.count('.') + l\n",
    "            return r, l\n",
    "    return '', 0"
   ]
  },
  {
   "cell_type": "code",
   "execution_count": 15,
   "metadata": {},
   "outputs": [],
   "source": [
    "df = pd.read_csv('bkk-bud_cleaned.csv', index_col='index')\n",
    "df = df.sort_values(by=['filename', 'page', 'line_num']).reset_index(drop=True)\n",
    "fpl_group = df.groupby(['filename', 'page', 'line_num'])"
   ]
  },
  {
   "cell_type": "code",
   "execution_count": 16,
   "metadata": {},
   "outputs": [
    {
     "name": "stderr",
     "output_type": "stream",
     "text": [
      "100%|██████████| 43170/43170 [00:15<00:00, 2792.12it/s]\n"
     ]
    }
   ],
   "source": [
    "bulletFlag = False\n",
    "entry = []\n",
    "entries = []\n",
    "\n",
    "for i, group in tqdm(fpl_group):\n",
    "    lineText = group.text.values\n",
    "    if not i[2]:\n",
    "        continue\n",
    "\n",
    "    if (lineText[0].startswith('งาน') and i[2] <= 2) or (lineText[0].startswith('งาน:')):\n",
    "        entries.append(('job', group.index.to_list()))\n",
    "        continue\n",
    "\n",
    "    if ' ' in group.iloc[0].text:\n",
    "        bullet = get_patern_of_bullet(group.iloc[0].text.split(' ')[0])\n",
    "    else:\n",
    "        bullet = get_patern_of_bullet(group.iloc[0].text)\n",
    "\n",
    "    if lineText[0].startswith('งาน'):\n",
    "        if (lineText[-1] == 'บาท'):\n",
    "            lineText = lineText[:-2]\n",
    "        job = ' '.join(lineText)\n",
    "        continue\n",
    "    elif bullet[1]:\n",
    "        bulletFlag = True\n",
    "\n",
    "    if bulletFlag:\n",
    "        entry += group.index.to_list()\n",
    "        if lineText[-1] == 'บาท':\n",
    "            bulletFlag = False\n",
    "            entries.append(('list', entry))\n",
    "            entry = []\n"
   ]
  },
  {
   "cell_type": "code",
   "execution_count": 17,
   "metadata": {},
   "outputs": [],
   "source": [
    "class Budget(NodeMixin):\n",
    "    def __init__(self, id, name, idx, bullet, parent=None, children=None):\n",
    "        super(Budget, self).__init__()\n",
    "        self.name = name\n",
    "        self.id = id\n",
    "        self.idx = idx\n",
    "        self.amount = ''\n",
    "        if len(idx) > 2:\n",
    "            self.amount = df.loc[idx[-2]].text\n",
    "        elif len(name.split(' ')) > 2:\n",
    "            self.amount = name.split(' ')[-2]\n",
    "\n",
    "        self.bullet = bullet\n",
    "        self.parent = parent\n",
    "        if children:\n",
    "            self.children = children\n",
    "    def __repr__(self):\n",
    "        return self.name\n"
   ]
  },
  {
   "cell_type": "code",
   "execution_count": 18,
   "metadata": {},
   "outputs": [
    {
     "name": "stderr",
     "output_type": "stream",
     "text": [
      "100%|██████████| 28043/28043 [00:19<00:00, 1424.16it/s]\n"
     ]
    }
   ],
   "source": [
    "BUDGET_RUNNING_ID = 0\n",
    "root = Budget(BUDGET_RUNNING_ID, 'BKK2022', [-1], -2)\n",
    "BUDGET_RUNNING_ID += 1\n",
    "\n",
    "job_root = None\n",
    "curr = None\n",
    "\n",
    "for l, entry in tqdm(entries):\n",
    "  entryText = ' '.join(df.loc[entry].text.values)\n",
    "\n",
    "  if l == 'job':\n",
    "    job_root = Budget(BUDGET_RUNNING_ID, entryText, entry, -1, root)\n",
    "    BUDGET_RUNNING_ID += 1\n",
    "    curr = job_root\n",
    "    continue\n",
    "\n",
    "  entry_bullet = get_patern_of_bullet(df.loc[entry[0]].text.split(' ')[0])\n",
    "  if curr == job_root:\n",
    "     curr = Budget(BUDGET_RUNNING_ID, entryText, entry, entry_bullet[1], job_root)\n",
    "     BUDGET_RUNNING_ID += 1\n",
    "  else:\n",
    "    while curr.bullet != job_root and entry_bullet[1] <= curr.bullet:\n",
    "      curr = curr.parent\n",
    "    curr = Budget(BUDGET_RUNNING_ID, entryText, entry, entry_bullet[1], curr)\n",
    "    BUDGET_RUNNING_ID+=1\n",
    "  "
   ]
  },
  {
   "cell_type": "code",
   "execution_count": 19,
   "metadata": {},
   "outputs": [],
   "source": [
    "has_parent = pd.DataFrame(\n",
    "    [\n",
    "        {'id': node.id, 'parent': node.parent.id}\n",
    "        for node in PreOrderIter(root) if node.parent\n",
    "    ])\n",
    "item = pd.DataFrame(\n",
    "    [\n",
    "        {\n",
    "            'id': node.id,\n",
    "            'text': node.name, \n",
    "            'amount': node.amount.replace(' ', '').replace(',', ''), \n",
    "            'filename': df.loc[node.idx[0]].filename, \n",
    "            'page': df.loc[node.idx[0]].page,\n",
    "            'line_num': df.loc[node.idx[0]].line_num\n",
    "            }\n",
    "        for node in PreOrderIter(root)\n",
    "        if node.is_leaf\n",
    "    ]\n",
    ")\n",
    "\n",
    "has_parent.to_csv('2022bkk-buget-has_parent.csv', index=0)\n",
    "item.to_csv('2022bkk-buget-item.csv', index=0)"
   ]
  },
  {
   "cell_type": "code",
   "execution_count": null,
   "metadata": {},
   "outputs": [],
   "source": []
  }
 ],
 "metadata": {
  "interpreter": {
   "hash": "06a1f1a44851178a47cec35640b473cf7ad372c57da1cea48f655073264bf03f"
  },
  "kernelspec": {
   "display_name": "Python 3.9.7 ('base')",
   "language": "python",
   "name": "python3"
  },
  "language_info": {
   "codemirror_mode": {
    "name": "ipython",
    "version": 3
   },
   "file_extension": ".py",
   "mimetype": "text/x-python",
   "name": "python",
   "nbconvert_exporter": "python",
   "pygments_lexer": "ipython3",
   "version": "3.9.7"
  },
  "orig_nbformat": 4
 },
 "nbformat": 4,
 "nbformat_minor": 2
}
